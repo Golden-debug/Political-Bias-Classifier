{
 "cells": [
  {
   "cell_type": "markdown",
   "metadata": {},
   "source": [
    "# Introduction\n",
    "\n",
    "For this project I have chosen to build a political bias classifier that will work with natural language proecessing. Specifically this model will read article content and issue a binary classification of 0 (liberal bias) or 1 (conservative bias).  \n"
   ]
  },
  {
   "cell_type": "markdown",
   "metadata": {},
   "source": [
    "#### Import Libraries\n",
    "\n",
    "For this project I will be using tensorflow and keras for the modeling as well as numpy and pandas for the data manipulation."
   ]
  },
  {
   "cell_type": "code",
   "execution_count": 1,
   "metadata": {},
   "outputs": [],
   "source": [
    "import pandas as pd\n",
    "import numpy as np\n",
    "import tensorflow as tf\n",
    "from tensorflow import keras\n",
    "from tensorflow.keras import layers\n",
    "from tensorflow.keras.models import Sequential\n",
    "from tensorflow.keras.layers import Dense, Dropout, Embedding\n",
    "from tensorflow.keras.optimizers import Adam\n",
    "\n"
   ]
  },
  {
   "cell_type": "markdown",
   "metadata": {},
   "source": [
    "#### Data Source \n",
    "\n",
    "The data source for this project is the All the News Dataset from kaggle.com (https://www.kaggle.com/snapcrack/all-the-news). This data includes articles from numerous different publications accross the political spectrum and includes roughly 150,000 total articles. This dataset will be the primary dataset used in training and evaluating my neural network. "
   ]
  },
  {
   "cell_type": "markdown",
   "metadata": {},
   "source": [
    "#### Importing Data\n",
    "\n",
    "The data from kaggle is divided into three different csv files containing roughyl 50,000 articles each. Here I import all three files."
   ]
  },
  {
   "cell_type": "code",
   "execution_count": 2,
   "metadata": {},
   "outputs": [],
   "source": [
    "articles1_df = pd.read_csv('Data/articles1.csv')\n",
    "articles2_df = pd.read_csv('Data/articles2.csv')\n",
    "articles3_df = pd.read_csv('Data/articles3.csv')"
   ]
  },
  {
   "cell_type": "markdown",
   "metadata": {},
   "source": [
    "## EDA\n",
    "\n",
    "Before beginning preprocessing I would like to look at the data in detail to see which columns are available."
   ]
  },
  {
   "cell_type": "code",
   "execution_count": 3,
   "metadata": {},
   "outputs": [
    {
     "data": {
      "text/html": [
       "<div>\n",
       "<style scoped>\n",
       "    .dataframe tbody tr th:only-of-type {\n",
       "        vertical-align: middle;\n",
       "    }\n",
       "\n",
       "    .dataframe tbody tr th {\n",
       "        vertical-align: top;\n",
       "    }\n",
       "\n",
       "    .dataframe thead th {\n",
       "        text-align: right;\n",
       "    }\n",
       "</style>\n",
       "<table border=\"1\" class=\"dataframe\">\n",
       "  <thead>\n",
       "    <tr style=\"text-align: right;\">\n",
       "      <th></th>\n",
       "      <th>Unnamed: 0</th>\n",
       "      <th>id</th>\n",
       "      <th>title</th>\n",
       "      <th>publication</th>\n",
       "      <th>author</th>\n",
       "      <th>date</th>\n",
       "      <th>year</th>\n",
       "      <th>month</th>\n",
       "      <th>url</th>\n",
       "      <th>content</th>\n",
       "    </tr>\n",
       "  </thead>\n",
       "  <tbody>\n",
       "    <tr>\n",
       "      <th>0</th>\n",
       "      <td>0</td>\n",
       "      <td>17283</td>\n",
       "      <td>House Republicans Fret About Winning Their Hea...</td>\n",
       "      <td>New York Times</td>\n",
       "      <td>Carl Hulse</td>\n",
       "      <td>2016-12-31</td>\n",
       "      <td>2016.0</td>\n",
       "      <td>12.0</td>\n",
       "      <td>NaN</td>\n",
       "      <td>WASHINGTON  —   Congressional Republicans have...</td>\n",
       "    </tr>\n",
       "  </tbody>\n",
       "</table>\n",
       "</div>"
      ],
      "text/plain": [
       "   Unnamed: 0     id                                              title  \\\n",
       "0           0  17283  House Republicans Fret About Winning Their Hea...   \n",
       "\n",
       "      publication      author        date    year  month  url  \\\n",
       "0  New York Times  Carl Hulse  2016-12-31  2016.0   12.0  NaN   \n",
       "\n",
       "                                             content  \n",
       "0  WASHINGTON  —   Congressional Republicans have...  "
      ]
     },
     "execution_count": 3,
     "metadata": {},
     "output_type": "execute_result"
    }
   ],
   "source": [
    "articles1_df.head(1)\n"
   ]
  },
  {
   "cell_type": "markdown",
   "metadata": {},
   "source": [
    "All three csv files are stored in the same format. After taking a look at the columns available I can identify that there are three relevant columns that will be used in this analysis. These are publication, content"
   ]
  },
  {
   "cell_type": "markdown",
   "metadata": {},
   "source": [
    "#### Evaluate Need for Data Cleaning"
   ]
  },
  {
   "cell_type": "markdown",
   "metadata": {},
   "source": [
    "First I will check for duplicates and evaluate if they need to be removed. "
   ]
  },
  {
   "cell_type": "code",
   "execution_count": 4,
   "metadata": {},
   "outputs": [
    {
     "name": "stdout",
     "output_type": "stream",
     "text": [
      " there are 0 duplicates in articles1_df\n",
      " there are 0 duplicates in articles2_df\n",
      " there are 0 duplicates in articles3_df\n"
     ]
    }
   ],
   "source": [
    "print(f' there are {articles1_df.duplicated().sum()} duplicates in articles1_df')\n",
    "print(f' there are {articles2_df.duplicated().sum()} duplicates in articles2_df')\n",
    "print(f' there are {articles3_df.duplicated().sum()} duplicates in articles3_df')"
   ]
  },
  {
   "cell_type": "markdown",
   "metadata": {},
   "source": [
    "There are no duplicates in any of the three dataframes so no actions are necessary here. \n",
    "##### Next I will check for na values and evaluate if any need to be removed."
   ]
  },
  {
   "cell_type": "code",
   "execution_count": 5,
   "metadata": {},
   "outputs": [
    {
     "name": "stdout",
     "output_type": "stream",
     "text": [
      "Unnamed: 0         0\n",
      "id                 0\n",
      "title              0\n",
      "publication        0\n",
      "author          6306\n",
      "date               0\n",
      "year               0\n",
      "month              0\n",
      "url            50000\n",
      "content            0\n",
      "dtype: int64\n",
      "\n",
      "\n",
      "Unnamed: 0        0\n",
      "id                0\n",
      "title             1\n",
      "publication       0\n",
      "author         8598\n",
      "date           2626\n",
      "year           2626\n",
      "month          2626\n",
      "url            7011\n",
      "content           0\n",
      "dtype: int64\n",
      "\n",
      "\n",
      "Unnamed: 0       0\n",
      "id               0\n",
      "title            1\n",
      "publication      0\n",
      "author         972\n",
      "date            15\n",
      "year            15\n",
      "month           15\n",
      "url              0\n",
      "content          0\n",
      "dtype: int64\n"
     ]
    }
   ],
   "source": [
    "print(articles1_df.isna().sum())\n",
    "print('\\n')\n",
    "print(articles2_df.isna().sum())\n",
    "print('\\n')\n",
    "print(articles3_df.isna().sum())"
   ]
  },
  {
   "cell_type": "markdown",
   "metadata": {},
   "source": [
    "There are a number of null values in the author, data, year, month, and url columns present in all three dataframes. Luckily, none of these columns will be used in the modeling process so I can safely ignore these values and continue with the EDA process. Additionally, I do not need to evaluate numeric data for inf or 0 values as the data that is relevant to the analysis is exclusively text data from the title and content columns."
   ]
  },
  {
   "cell_type": "markdown",
   "metadata": {},
   "source": [
    "#### Look into df contents\n",
    "\n",
    "Here I need to obtain the list of publishers that are present in the data in order to decide which publishers are to be assigned bias labels and used in training the model."
   ]
  },
  {
   "cell_type": "code",
   "execution_count": 6,
   "metadata": {},
   "outputs": [
    {
     "data": {
      "text/plain": [
       "array(['New York Times', 'Breitbart', 'CNN', 'Business Insider',\n",
       "       'Atlantic'], dtype=object)"
      ]
     },
     "execution_count": 6,
     "metadata": {},
     "output_type": "execute_result"
    }
   ],
   "source": [
    "pd.unique(articles1_df['publication'])"
   ]
  },
  {
   "cell_type": "code",
   "execution_count": 7,
   "metadata": {},
   "outputs": [
    {
     "data": {
      "text/plain": [
       "array(['Atlantic', 'Fox News', 'Talking Points Memo', 'Buzzfeed News',\n",
       "       'National Review', 'New York Post', 'Guardian'], dtype=object)"
      ]
     },
     "execution_count": 7,
     "metadata": {},
     "output_type": "execute_result"
    }
   ],
   "source": [
    "pd.unique(articles2_df['publication'])"
   ]
  },
  {
   "cell_type": "code",
   "execution_count": 8,
   "metadata": {},
   "outputs": [
    {
     "data": {
      "text/plain": [
       "array(['Guardian', 'NPR', 'Reuters', 'Vox', 'Washington Post'],\n",
       "      dtype=object)"
      ]
     },
     "execution_count": 8,
     "metadata": {},
     "output_type": "execute_result"
    }
   ],
   "source": [
    "pd.unique(articles3_df['publication'])"
   ]
  },
  {
   "cell_type": "markdown",
   "metadata": {},
   "source": [
    "### Preprocessing"
   ]
  },
  {
   "cell_type": "markdown",
   "metadata": {},
   "source": [
    "#### Assign Bias Labels\n",
    "\n",
    "In order to assign bias labels I have used the allsides.com bias ratings (https://www.allsides.com/media-bias/media-bias-ratings) and the adfontesmedia.com bias ratings (https://www.adfontesmedia.com/interactive-media-bias-chart/) to make these determinations. Liberal publishers are assignd a bias label of 0 where conservative publishers are assigned a bias label of 1. \n",
    "\n",
    "There are many publishers in this dataset that are rated to be neural in their political bias such as business insider, reuters and several others. These neutral publishers will not be used in the training of the model however I have assigned them a 0 bias (liberal) simply because it was easier to execute using the np.where command. Please not that many of the publishers assigned a 0 in the next step are not relevant to the analysis. "
   ]
  },
  {
   "cell_type": "code",
   "execution_count": 9,
   "metadata": {},
   "outputs": [],
   "source": [
    "articles1_df['Bias'] = np.where((articles1_df['publication'] == 'Breitbart'), 1, 0)\n",
    "\n",
    "articles2_df['Bias'] = np.where((articles2_df['publication'] == 'Fox News') | \n",
    "                                (articles2_df['publication'] == 'New York Post'), 1, 0)\n",
    "articles3_df['Bias'] = 0 "
   ]
  },
  {
   "cell_type": "markdown",
   "metadata": {},
   "source": [
    "#### Identify relevant Publishers\n",
    "\n",
    "In this step I have isolated rows associated with publishers with at least a moderate conservative or liberal bias. This step is done to make concatenation into a single dataframe easier later on. "
   ]
  },
  {
   "cell_type": "code",
   "execution_count": 10,
   "metadata": {},
   "outputs": [],
   "source": [
    "Breit = articles1_df[articles1_df['publication'] == 'Breitbart']\n",
    "Atlantic = articles2_df[articles2_df['publication'] == 'Atlantic']\n",
    "Foxnews = articles1_df[articles1_df['publication'] == 'Fox News']\n",
    "NYT = articles1_df[articles1_df['publication'] == 'New York Times']\n",
    "NYP = articles2_df[articles2_df['publication'] == 'New York Post']\n",
    "Wash = articles3_df[articles3_df['publication'] == 'Washington Post']\n",
    "Guardian = articles3_df[articles3_df['publication'] == 'Guardian']\n",
    "Vox = articles3_df[articles3_df['publication'] == 'Vox']"
   ]
  },
  {
   "cell_type": "code",
   "execution_count": 11,
   "metadata": {},
   "outputs": [
    {
     "data": {
      "text/html": [
       "<div>\n",
       "<style scoped>\n",
       "    .dataframe tbody tr th:only-of-type {\n",
       "        vertical-align: middle;\n",
       "    }\n",
       "\n",
       "    .dataframe tbody tr th {\n",
       "        vertical-align: top;\n",
       "    }\n",
       "\n",
       "    .dataframe thead th {\n",
       "        text-align: right;\n",
       "    }\n",
       "</style>\n",
       "<table border=\"1\" class=\"dataframe\">\n",
       "  <thead>\n",
       "    <tr style=\"text-align: right;\">\n",
       "      <th></th>\n",
       "      <th>Unnamed: 0</th>\n",
       "      <th>id</th>\n",
       "      <th>title</th>\n",
       "      <th>publication</th>\n",
       "      <th>author</th>\n",
       "      <th>date</th>\n",
       "      <th>year</th>\n",
       "      <th>month</th>\n",
       "      <th>url</th>\n",
       "      <th>content</th>\n",
       "      <th>Bias</th>\n",
       "    </tr>\n",
       "  </thead>\n",
       "  <tbody>\n",
       "    <tr>\n",
       "      <th>0</th>\n",
       "      <td>0</td>\n",
       "      <td>17283</td>\n",
       "      <td>House Republicans Fret About Winning Their Hea...</td>\n",
       "      <td>New York Times</td>\n",
       "      <td>Carl Hulse</td>\n",
       "      <td>2016-12-31</td>\n",
       "      <td>2016.0</td>\n",
       "      <td>12.0</td>\n",
       "      <td>NaN</td>\n",
       "      <td>WASHINGTON  —   Congressional Republicans have...</td>\n",
       "      <td>0</td>\n",
       "    </tr>\n",
       "    <tr>\n",
       "      <th>1</th>\n",
       "      <td>1</td>\n",
       "      <td>17284</td>\n",
       "      <td>Rift Between Officers and Residents as Killing...</td>\n",
       "      <td>New York Times</td>\n",
       "      <td>Benjamin Mueller and Al Baker</td>\n",
       "      <td>2017-06-19</td>\n",
       "      <td>2017.0</td>\n",
       "      <td>6.0</td>\n",
       "      <td>NaN</td>\n",
       "      <td>After the bullet shells get counted, the blood...</td>\n",
       "      <td>0</td>\n",
       "    </tr>\n",
       "    <tr>\n",
       "      <th>2</th>\n",
       "      <td>2</td>\n",
       "      <td>17285</td>\n",
       "      <td>Tyrus Wong, ‘Bambi’ Artist Thwarted by Racial ...</td>\n",
       "      <td>New York Times</td>\n",
       "      <td>Margalit Fox</td>\n",
       "      <td>2017-01-06</td>\n",
       "      <td>2017.0</td>\n",
       "      <td>1.0</td>\n",
       "      <td>NaN</td>\n",
       "      <td>When Walt Disney’s “Bambi” opened in 1942, cri...</td>\n",
       "      <td>0</td>\n",
       "    </tr>\n",
       "    <tr>\n",
       "      <th>3</th>\n",
       "      <td>3</td>\n",
       "      <td>17286</td>\n",
       "      <td>Among Deaths in 2016, a Heavy Toll in Pop Musi...</td>\n",
       "      <td>New York Times</td>\n",
       "      <td>William McDonald</td>\n",
       "      <td>2017-04-10</td>\n",
       "      <td>2017.0</td>\n",
       "      <td>4.0</td>\n",
       "      <td>NaN</td>\n",
       "      <td>Death may be the great equalizer, but it isn’t...</td>\n",
       "      <td>0</td>\n",
       "    </tr>\n",
       "    <tr>\n",
       "      <th>4</th>\n",
       "      <td>4</td>\n",
       "      <td>17287</td>\n",
       "      <td>Kim Jong-un Says North Korea Is Preparing to T...</td>\n",
       "      <td>New York Times</td>\n",
       "      <td>Choe Sang-Hun</td>\n",
       "      <td>2017-01-02</td>\n",
       "      <td>2017.0</td>\n",
       "      <td>1.0</td>\n",
       "      <td>NaN</td>\n",
       "      <td>SEOUL, South Korea  —   North Korea’s leader, ...</td>\n",
       "      <td>0</td>\n",
       "    </tr>\n",
       "  </tbody>\n",
       "</table>\n",
       "</div>"
      ],
      "text/plain": [
       "   Unnamed: 0     id                                              title  \\\n",
       "0           0  17283  House Republicans Fret About Winning Their Hea...   \n",
       "1           1  17284  Rift Between Officers and Residents as Killing...   \n",
       "2           2  17285  Tyrus Wong, ‘Bambi’ Artist Thwarted by Racial ...   \n",
       "3           3  17286  Among Deaths in 2016, a Heavy Toll in Pop Musi...   \n",
       "4           4  17287  Kim Jong-un Says North Korea Is Preparing to T...   \n",
       "\n",
       "      publication                         author        date    year  month  \\\n",
       "0  New York Times                     Carl Hulse  2016-12-31  2016.0   12.0   \n",
       "1  New York Times  Benjamin Mueller and Al Baker  2017-06-19  2017.0    6.0   \n",
       "2  New York Times                   Margalit Fox  2017-01-06  2017.0    1.0   \n",
       "3  New York Times               William McDonald  2017-04-10  2017.0    4.0   \n",
       "4  New York Times                  Choe Sang-Hun  2017-01-02  2017.0    1.0   \n",
       "\n",
       "   url                                            content  Bias  \n",
       "0  NaN  WASHINGTON  —   Congressional Republicans have...     0  \n",
       "1  NaN  After the bullet shells get counted, the blood...     0  \n",
       "2  NaN  When Walt Disney’s “Bambi” opened in 1942, cri...     0  \n",
       "3  NaN  Death may be the great equalizer, but it isn’t...     0  \n",
       "4  NaN  SEOUL, South Korea  —   North Korea’s leader, ...     0  "
      ]
     },
     "execution_count": 11,
     "metadata": {},
     "output_type": "execute_result"
    }
   ],
   "source": [
    "NYT.head()"
   ]
  },
  {
   "cell_type": "markdown",
   "metadata": {},
   "source": [
    "#### See Row Counts for Each Publisher"
   ]
  },
  {
   "cell_type": "code",
   "execution_count": 12,
   "metadata": {},
   "outputs": [
    {
     "name": "stdout",
     "output_type": "stream",
     "text": [
      "Breitbart (23781, 11)\n",
      "Atlantic (7008, 11)\n",
      "Fox news (0, 11)\n",
      "New York Times (7803, 11)\n",
      "New York Post (17493, 11)\n",
      "Washington Post (11114, 11)\n",
      "Guardian (3808, 11)\n",
      "Vox (4947, 11)\n"
     ]
    }
   ],
   "source": [
    "print(f'Breitbart {Breit.shape}')\n",
    "print(f'Atlantic {Atlantic.shape}')\n",
    "print(f'Fox news {Foxnews.shape}')\n",
    "print(f'New York Times {NYT.shape}')\n",
    "print(f'New York Post {NYP.shape}')\n",
    "print(f'Washington Post {Wash.shape}')\n",
    "print(f'Guardian {Guardian.shape}')\n",
    "print(f'Vox {Vox.shape}')"
   ]
  },
  {
   "cell_type": "markdown",
   "metadata": {},
   "source": [
    "#### Select most Biased Publishers for Model Training.\n",
    "\n",
    "As I am trying to train a model for binary classification, I have tried to select the most biased publishers in my dataset for training the model. Towards this end I have selected Breitbart, The New York Times, the New York Post, and the Atlantic for use in training the model. \n",
    "\n",
    "Disclaimer: The bias ratings from allsides.com and adfontes media indicate that the liberal sources of the Atlantic and The New York Times are of a moderate liberal bias score where the conservative sources of Breitbart and the New York Post were given a conservative and moderate conservative bias score respectively. This means that the conservative articles on average are more conservative than the liberal articles are liberal. Given the lack of far left publishers in my dataset this is unavoidable however when interpreting the results of the model it must be taken into account. "
   ]
  },
  {
   "cell_type": "code",
   "execution_count": 13,
   "metadata": {},
   "outputs": [],
   "source": [
    "Publishers = [Breit,NYT,NYP,Atlantic] # Assign Publishers \n",
    "articles = pd.concat(Publishers) # Concatenate publisher DataFrames into a single articles DataFrame"
   ]
  },
  {
   "cell_type": "markdown",
   "metadata": {},
   "source": [
    "#### Evaluate Class Distribution\n",
    "\n"
   ]
  },
  {
   "cell_type": "code",
   "execution_count": 14,
   "metadata": {
    "scrolled": false
   },
   "outputs": [
    {
     "name": "stdout",
     "output_type": "stream",
     "text": [
      "(56085, 11)\n"
     ]
    },
    {
     "data": {
      "text/plain": [
       "41274"
      ]
     },
     "execution_count": 14,
     "metadata": {},
     "output_type": "execute_result"
    }
   ],
   "source": [
    "print(articles.shape)\n",
    "articles['Bias'].sum()"
   ]
  },
  {
   "cell_type": "markdown",
   "metadata": {},
   "source": [
    "With 41274 out of 56085 articles having a conservative bias there is a definite class imbalance in the target field. I will keep an eye on the results to evaluate if this needs to be corrected. For now I will leave it as is. "
   ]
  },
  {
   "cell_type": "code",
   "execution_count": 15,
   "metadata": {},
   "outputs": [
    {
     "data": {
      "image/png": "[encoded data removed]",
      "text/plain": [
       "<Figure size 432x288 with 1 Axes>"
      ]
     },
     "metadata": {
      "needs_background": "light"
     },
     "output_type": "display_data"
    }
   ],
   "source": [
    "import matplotlib.pyplot as plt\n",
    "\n",
    "plt.figure()\n",
    "plt.bar((1,2),(56085, 41274))\n",
    "plt.show()"
   ]
  },
  {
   "cell_type": "markdown",
   "metadata": {},
   "source": [
    "#### Review final DataFrame\n",
    "\n",
    "In this section I have extracted the fields that I will be using in the analysis. All fields are showing up as expected and there do not appear to be any issues. There are 56,085 rows in the dataset that will be used for training and testing. "
   ]
  },
  {
   "cell_type": "code",
   "execution_count": 16,
   "metadata": {
    "scrolled": true
   },
   "outputs": [
    {
     "data": {
      "text/html": [
       "<div>\n",
       "<style scoped>\n",
       "    .dataframe tbody tr th:only-of-type {\n",
       "        vertical-align: middle;\n",
       "    }\n",
       "\n",
       "    .dataframe tbody tr th {\n",
       "        vertical-align: top;\n",
       "    }\n",
       "\n",
       "    .dataframe thead th {\n",
       "        text-align: right;\n",
       "    }\n",
       "</style>\n",
       "<table border=\"1\" class=\"dataframe\">\n",
       "  <thead>\n",
       "    <tr style=\"text-align: right;\">\n",
       "      <th></th>\n",
       "      <th>title</th>\n",
       "      <th>content</th>\n",
       "      <th>Bias</th>\n",
       "    </tr>\n",
       "  </thead>\n",
       "  <tbody>\n",
       "    <tr>\n",
       "      <th>7803</th>\n",
       "      <td>CNN’s Zeleny: ’Hard to Imagine’ Obama Would Ha...</td>\n",
       "      <td>On Tuesday’s broadcast of CNN’s “Situation Roo...</td>\n",
       "      <td>1</td>\n",
       "    </tr>\n",
       "    <tr>\n",
       "      <th>7804</th>\n",
       "      <td>American Students on Spring Break Chant ’Build...</td>\n",
       "      <td>A group of American spring break revelers repo...</td>\n",
       "      <td>1</td>\n",
       "    </tr>\n",
       "    <tr>\n",
       "      <th>7805</th>\n",
       "      <td>Surge in ’Honour Crimes’ and Forced Marriages ...</td>\n",
       "      <td>“honour crimes” have risen by 40 per cent in...</td>\n",
       "      <td>1</td>\n",
       "    </tr>\n",
       "    <tr>\n",
       "      <th>7806</th>\n",
       "      <td>MILO Announces New Media Venture - Breitbart</td>\n",
       "      <td>Former Breitbart Senior Editor MILO has announ...</td>\n",
       "      <td>1</td>\n",
       "    </tr>\n",
       "    <tr>\n",
       "      <th>7807</th>\n",
       "      <td>Jared Kushner at Center of Media Spotlight on ...</td>\n",
       "      <td>The focus of the continuous media reports of a...</td>\n",
       "      <td>1</td>\n",
       "    </tr>\n",
       "  </tbody>\n",
       "</table>\n",
       "</div>"
      ],
      "text/plain": [
       "                                                  title  \\\n",
       "7803  CNN’s Zeleny: ’Hard to Imagine’ Obama Would Ha...   \n",
       "7804  American Students on Spring Break Chant ’Build...   \n",
       "7805  Surge in ’Honour Crimes’ and Forced Marriages ...   \n",
       "7806       MILO Announces New Media Venture - Breitbart   \n",
       "7807  Jared Kushner at Center of Media Spotlight on ...   \n",
       "\n",
       "                                                content  Bias  \n",
       "7803  On Tuesday’s broadcast of CNN’s “Situation Roo...     1  \n",
       "7804  A group of American spring break revelers repo...     1  \n",
       "7805    “honour crimes” have risen by 40 per cent in...     1  \n",
       "7806  Former Breitbart Senior Editor MILO has announ...     1  \n",
       "7807  The focus of the continuous media reports of a...     1  "
      ]
     },
     "execution_count": 16,
     "metadata": {},
     "output_type": "execute_result"
    }
   ],
   "source": [
    "articles[['title','content','Bias']].head(5)"
   ]
  },
  {
   "cell_type": "code",
   "execution_count": 17,
   "metadata": {},
   "outputs": [
    {
     "data": {
      "text/plain": [
       "(56085, 11)"
      ]
     },
     "execution_count": 17,
     "metadata": {},
     "output_type": "execute_result"
    }
   ],
   "source": [
    "articles.shape"
   ]
  },
  {
   "cell_type": "markdown",
   "metadata": {},
   "source": [
    "#### Extract Features and Combine\n",
    "\n",
    "In this section features and targets will be extracted. As you can see there is a single relevant feature columm in the content column. The target column will be the Bias label that was created earlier in the workbook."
   ]
  },
  {
   "cell_type": "code",
   "execution_count": 18,
   "metadata": {},
   "outputs": [],
   "source": [
    "X = articles['content']\n",
    "y = articles['Bias']"
   ]
  },
  {
   "cell_type": "markdown",
   "metadata": {},
   "source": [
    "#### Remove possibly problematic works from the data.\n",
    "\n",
    "In this section I will remove possibly problematic works from the feature data. These words include the names of publishers. I have also removed a few locations from the data such as New York and Washington as these are disproportionately used by certain publishers. \n"
   ]
  },
  {
   "cell_type": "code",
   "execution_count": 19,
   "metadata": {},
   "outputs": [],
   "source": [
    "X = [word.replace('Breitbart','') for word in X]\n",
    "X = [word.replace('CNN','') for word in X]\n",
    "X = [word.replace('Atlantic','') for word in X]\n",
    "X = [word.replace('New York Times','') for word in X]\n",
    "X = [word.replace('New York','') for word in X]\n",
    "X = [word.replace('Washington','') for word in X]\n",
    "X = [word.replace('London','') for word in X]"
   ]
  },
  {
   "cell_type": "markdown",
   "metadata": {},
   "source": [
    "#### Test Train Split\n",
    "\n",
    "Now that most of the data processing is done it is time to do the test train split. I have chosen to stratify the split to ensure that the classes are equally represented. I have also chosen a test size of 10% in order to maximize the amount of data available for training. There will still be 5"
   ]
  },
  {
   "cell_type": "code",
   "execution_count": 20,
   "metadata": {
    "scrolled": true
   },
   "outputs": [],
   "source": [
    "from sklearn.model_selection import train_test_split\n",
    "\n",
    "# split train and validation set\n",
    "X_train, X_test, y_train, y_test = train_test_split(X, y, test_size=0.1, stratify=y)"
   ]
  },
  {
   "cell_type": "markdown",
   "metadata": {},
   "source": [
    "#### Import Google Universal Sentence Encoder\n",
    "\n",
    "The universal sentence encoder is a tool that was built by google with the intention to be used for natural language processing tasks. The encoder takes an english string input that can be of word, sentence, paragraph or even article length and converts the data into a 512 value fixed dimensional embedding representation of the string. This document explains in more detail how the embedder works (https://static.googleusercontent.com/media/research.google.com/en//pubs/archive/46808.pdf) \n",
    "\n",
    "The embedding weights have been pre-trained so all that is needed is to import the embedder and to embed all of the relevant article content. These steps are performed in the cells directly below."
   ]
  },
  {
   "cell_type": "code",
   "execution_count": 21,
   "metadata": {},
   "outputs": [],
   "source": [
    "# Tensorflow hub is needed to use the encoder\n",
    "import tensorflow_hub as hub\n",
    "\n",
    "# Import the encoder\n",
    "embed = hub.load(\"https://tfhub.dev/google/universal-sentence-encoder/4\")\n"
   ]
  },
  {
   "cell_type": "markdown",
   "metadata": {},
   "source": [
    "#### Embed X Train"
   ]
  },
  {
   "cell_type": "code",
   "execution_count": 22,
   "metadata": {},
   "outputs": [
    {
     "name": "stdout",
     "output_type": "stream",
     "text": [
      "--- 180.1952419281006 seconds ---\n"
     ]
    }
   ],
   "source": [
    "# Import Time function to track how long the embedding takes.\n",
    "import time\n",
    "\n",
    "# Create new list which new embedded values will be appended to. \n",
    "new_X_train = []\n",
    "\n",
    "# Loop through all rows in the X_train set and embed each value.\n",
    "start_time = time.time()\n",
    "for row in range(len(X_train)):\n",
    "    new_X_train.append(embed([X_train[row]]))\n",
    "    \n",
    "print(\"--- %s seconds ---\" % (time.time() - start_time))\n",
    "\n",
    "\n"
   ]
  },
  {
   "cell_type": "markdown",
   "metadata": {},
   "source": [
    "#### Embedd X Test\n",
    "\n",
    "The same steps are performed to embed the test set. "
   ]
  },
  {
   "cell_type": "code",
   "execution_count": 23,
   "metadata": {},
   "outputs": [
    {
     "name": "stdout",
     "output_type": "stream",
     "text": [
      "--- 20.063282012939453 seconds ---\n"
     ]
    }
   ],
   "source": [
    "new_X_test = []\n",
    "\n",
    "start_time = time.time()\n",
    "for row in range(len(X_test)):\n",
    "    new_X_test.append(embed([X_test[row]]))\n",
    "    \n",
    "print(\"--- %s seconds ---\" % (time.time() - start_time))"
   ]
  },
  {
   "cell_type": "markdown",
   "metadata": {},
   "source": [
    "#### Stack embedded values\n",
    "\n",
    "Here I use the np.stack function to stack all of the embedded arrays into a single array. This step is necessary for a neural network to reach the input. \n",
    "\n",
    "Additionally, in this step I also convert the y_train and y_test sets into numpy arrays as this format is necessary for a neural network to use them."
   ]
  },
  {
   "cell_type": "code",
   "execution_count": 31,
   "metadata": {},
   "outputs": [],
   "source": [
    "# Stack X values\n",
    "X_train2 = np.stack(new_X_train[0:len(X_train)], axis=0)\n",
    "X_test2 = np.stack(new_X_test[0:len(X_train)], axis=0)\n",
    "\n",
    "# Stack y values\n",
    "y_train2 = np.array(y_train[0:len(y_train)])\n",
    "y_test2 = np.array(y_test)"
   ]
  },
  {
   "cell_type": "code",
   "execution_count": 32,
   "metadata": {},
   "outputs": [],
   "source": [
    "# Reshape to remove extraneous column\n",
    "X_train2 = X_train2.reshape(50476,512)\n",
    "X_test2 = X_test2.reshape(5609,512)"
   ]
  },
  {
   "cell_type": "markdown",
   "metadata": {},
   "source": [
    "### Build Neural Network\n",
    "\n",
    "The neural network structure that I have chosen features an input layer of 512 neurons corresponding with the 512 numeric features produced by the google universal sentence encoder. The next layer is a hidden layer with 40 neurons, this number was arrived at by trial and error. I tried various different structures of layers and neurons and found that this number produced the best results of the iterations that I attempted. \n",
    "\n",
    "In general this model had a significant tendency to overfit so having more than one hidden layer was simply not necessary in order to generate good accuracy. Additionally, a dropout layer is included here as well as a lower than standard learning rate (.005) to reduce the overfitting tendency.\n",
    "\n",
    "This is a binary classification problem so I made the determination that the sigmoid output function with a binary crossentropy loss function is most applicable. I went with the Adam optimizer as this seemed to perform well relavtive to the other optimizers that I used. "
   ]
  },
  {
   "cell_type": "code",
   "execution_count": 40,
   "metadata": {},
   "outputs": [
    {
     "name": "stdout",
     "output_type": "stream",
     "text": [
      "Model: \"sequential_2\"\n",
      "_________________________________________________________________\n",
      "Layer (type)                 Output Shape              Param #   \n",
      "=================================================================\n",
      "dense_4 (Dense)              (None, 40)                20520     \n",
      "_________________________________________________________________\n",
      "dropout_2 (Dropout)          (None, 40)                0         \n",
      "_________________________________________________________________\n",
      "dense_5 (Dense)              (None, 1)                 41        \n",
      "=================================================================\n",
      "Total params: 20,561\n",
      "Trainable params: 20,561\n",
      "Non-trainable params: 0\n",
      "_________________________________________________________________\n"
     ]
    }
   ],
   "source": [
    "# Build the model\n",
    "model = tf.keras.Sequential()\n",
    "\n",
    "# Define Layers\n",
    "model.add(Dense(40, input_dim =512, activation='relu')),\n",
    "model.add(Dropout(0.4)),\n",
    "model.add(Dense(1, activation='sigmoid'))\n",
    "\n",
    "#Define Optimizer\n",
    "opt = keras.optimizers.Adam(learning_rate=0.0005)\n",
    "\n",
    "#Compile Model\n",
    "model.compile(loss=tf.keras.losses.binary_crossentropy,optimizer=opt,  metrics=['accuracy'])\n",
    "model.summary()"
   ]
  },
  {
   "cell_type": "markdown",
   "metadata": {},
   "source": [
    "#### Train Neural Network"
   ]
  },
  {
   "cell_type": "code",
   "execution_count": 41,
   "metadata": {},
   "outputs": [
    {
     "name": "stdout",
     "output_type": "stream",
     "text": [
      "Epoch 1/50\n",
      "1578/1578 [==============================] - 1s 755us/step - loss: 0.3902 - accuracy: 0.8299 - val_loss: 0.3053 - val_accuracy: 0.8748\n",
      "Epoch 2/50\n",
      "1578/1578 [==============================] - 1s 725us/step - loss: 0.2992 - accuracy: 0.8750 - val_loss: 0.2837 - val_accuracy: 0.8809\n",
      "Epoch 3/50\n",
      "1578/1578 [==============================] - 1s 713us/step - loss: 0.2829 - accuracy: 0.8834 - val_loss: 0.2725 - val_accuracy: 0.8859\n",
      "Epoch 4/50\n",
      "1578/1578 [==============================] - 1s 711us/step - loss: 0.2736 - accuracy: 0.8880 - val_loss: 0.2658 - val_accuracy: 0.8884\n",
      "Epoch 5/50\n",
      "1578/1578 [==============================] - 1s 732us/step - loss: 0.2653 - accuracy: 0.8915 - val_loss: 0.2603 - val_accuracy: 0.8912\n",
      "Epoch 6/50\n",
      "1578/1578 [==============================] - 1s 712us/step - loss: 0.2598 - accuracy: 0.8937 - val_loss: 0.2550 - val_accuracy: 0.8953\n",
      "Epoch 7/50\n",
      "1578/1578 [==============================] - 1s 714us/step - loss: 0.2544 - accuracy: 0.8967 - val_loss: 0.2494 - val_accuracy: 0.8959\n",
      "Epoch 8/50\n",
      "1578/1578 [==============================] - 1s 712us/step - loss: 0.2476 - accuracy: 0.9002 - val_loss: 0.2472 - val_accuracy: 0.8998\n",
      "Epoch 9/50\n",
      "1578/1578 [==============================] - 1s 714us/step - loss: 0.2427 - accuracy: 0.9018 - val_loss: 0.2413 - val_accuracy: 0.9011\n",
      "Epoch 10/50\n",
      "1578/1578 [==============================] - 1s 714us/step - loss: 0.2386 - accuracy: 0.9041 - val_loss: 0.2415 - val_accuracy: 0.9018\n",
      "Epoch 11/50\n",
      "1578/1578 [==============================] - 1s 715us/step - loss: 0.2344 - accuracy: 0.9066 - val_loss: 0.2349 - val_accuracy: 0.9059\n",
      "Epoch 12/50\n",
      "1578/1578 [==============================] - 1s 714us/step - loss: 0.2312 - accuracy: 0.9074 - val_loss: 0.2326 - val_accuracy: 0.9084\n",
      "Epoch 13/50\n",
      "1578/1578 [==============================] - 1s 710us/step - loss: 0.2263 - accuracy: 0.9105 - val_loss: 0.2300 - val_accuracy: 0.9100\n",
      "Epoch 14/50\n",
      "1578/1578 [==============================] - 1s 713us/step - loss: 0.2228 - accuracy: 0.9109 - val_loss: 0.2318 - val_accuracy: 0.9098\n",
      "Epoch 15/50\n",
      "1578/1578 [==============================] - 1s 711us/step - loss: 0.2215 - accuracy: 0.9111 - val_loss: 0.2257 - val_accuracy: 0.9100\n",
      "Epoch 16/50\n",
      "1578/1578 [==============================] - 1s 731us/step - loss: 0.2167 - accuracy: 0.9134 - val_loss: 0.2236 - val_accuracy: 0.9116\n",
      "Epoch 17/50\n",
      "1578/1578 [==============================] - 1s 716us/step - loss: 0.2149 - accuracy: 0.9152 - val_loss: 0.2213 - val_accuracy: 0.9135\n",
      "Epoch 18/50\n",
      "1578/1578 [==============================] - 1s 757us/step - loss: 0.2124 - accuracy: 0.9167 - val_loss: 0.2191 - val_accuracy: 0.9146\n",
      "Epoch 19/50\n",
      "1578/1578 [==============================] - 1s 725us/step - loss: 0.2092 - accuracy: 0.9173 - val_loss: 0.2184 - val_accuracy: 0.9167\n",
      "Epoch 20/50\n",
      "1578/1578 [==============================] - 1s 714us/step - loss: 0.2073 - accuracy: 0.9174 - val_loss: 0.2168 - val_accuracy: 0.9166\n",
      "Epoch 21/50\n",
      "1578/1578 [==============================] - 1s 728us/step - loss: 0.2052 - accuracy: 0.9194 - val_loss: 0.2150 - val_accuracy: 0.9162\n",
      "Epoch 22/50\n",
      "1578/1578 [==============================] - 1s 714us/step - loss: 0.2021 - accuracy: 0.9201 - val_loss: 0.2140 - val_accuracy: 0.9173\n",
      "Epoch 23/50\n",
      "1578/1578 [==============================] - 1s 711us/step - loss: 0.2006 - accuracy: 0.9219 - val_loss: 0.2141 - val_accuracy: 0.9183\n",
      "Epoch 24/50\n",
      "1578/1578 [==============================] - 1s 727us/step - loss: 0.1982 - accuracy: 0.9223 - val_loss: 0.2124 - val_accuracy: 0.9189\n",
      "Epoch 25/50\n",
      "1578/1578 [==============================] - 1s 714us/step - loss: 0.1972 - accuracy: 0.9226 - val_loss: 0.2129 - val_accuracy: 0.9183\n",
      "Epoch 26/50\n",
      "1578/1578 [==============================] - 1s 730us/step - loss: 0.1955 - accuracy: 0.9229 - val_loss: 0.2109 - val_accuracy: 0.9196\n",
      "Epoch 27/50\n",
      "1578/1578 [==============================] - 1s 714us/step - loss: 0.1943 - accuracy: 0.9231 - val_loss: 0.2096 - val_accuracy: 0.9212\n",
      "Epoch 28/50\n",
      "1578/1578 [==============================] - 1s 726us/step - loss: 0.1919 - accuracy: 0.9249 - val_loss: 0.2101 - val_accuracy: 0.9178\n",
      "Epoch 29/50\n",
      "1578/1578 [==============================] - 1s 714us/step - loss: 0.1887 - accuracy: 0.9262 - val_loss: 0.2089 - val_accuracy: 0.9205\n",
      "Epoch 30/50\n",
      "1578/1578 [==============================] - 1s 727us/step - loss: 0.1886 - accuracy: 0.9277 - val_loss: 0.2091 - val_accuracy: 0.9196\n",
      "Epoch 31/50\n",
      "1578/1578 [==============================] - 1s 718us/step - loss: 0.1873 - accuracy: 0.9274 - val_loss: 0.2083 - val_accuracy: 0.9221\n",
      "Epoch 32/50\n",
      "1578/1578 [==============================] - 1s 730us/step - loss: 0.1844 - accuracy: 0.9289 - val_loss: 0.2066 - val_accuracy: 0.9223\n",
      "Epoch 33/50\n",
      "1578/1578 [==============================] - 1s 730us/step - loss: 0.1834 - accuracy: 0.9290 - val_loss: 0.2070 - val_accuracy: 0.9214\n",
      "Epoch 34/50\n",
      "1578/1578 [==============================] - 1s 716us/step - loss: 0.1844 - accuracy: 0.9275 - val_loss: 0.2084 - val_accuracy: 0.9185\n",
      "Epoch 35/50\n",
      "1578/1578 [==============================] - 1s 732us/step - loss: 0.1824 - accuracy: 0.9282 - val_loss: 0.2070 - val_accuracy: 0.9217\n",
      "Epoch 36/50\n",
      "1578/1578 [==============================] - 1s 754us/step - loss: 0.1802 - accuracy: 0.9287 - val_loss: 0.2094 - val_accuracy: 0.9207\n",
      "Epoch 37/50\n",
      "1578/1578 [==============================] - 1s 739us/step - loss: 0.1791 - accuracy: 0.9304 - val_loss: 0.2085 - val_accuracy: 0.9219\n",
      "Epoch 38/50\n",
      "1578/1578 [==============================] - 1s 730us/step - loss: 0.1764 - accuracy: 0.9309 - val_loss: 0.2057 - val_accuracy: 0.9210\n",
      "Epoch 39/50\n",
      "1578/1578 [==============================] - 1s 734us/step - loss: 0.1780 - accuracy: 0.9315 - val_loss: 0.2064 - val_accuracy: 0.9219\n",
      "Epoch 40/50\n",
      "1578/1578 [==============================] - 1s 732us/step - loss: 0.1732 - accuracy: 0.9324 - val_loss: 0.2073 - val_accuracy: 0.9212\n",
      "Epoch 41/50\n",
      "1578/1578 [==============================] - 1s 717us/step - loss: 0.1731 - accuracy: 0.9319 - val_loss: 0.2084 - val_accuracy: 0.9221\n",
      "Epoch 42/50\n",
      "1578/1578 [==============================] - 1s 719us/step - loss: 0.1734 - accuracy: 0.9330 - val_loss: 0.2070 - val_accuracy: 0.9210\n",
      "Epoch 43/50\n",
      "1578/1578 [==============================] - 1s 720us/step - loss: 0.1696 - accuracy: 0.9342 - val_loss: 0.2060 - val_accuracy: 0.9241\n",
      "Epoch 44/50\n",
      "1578/1578 [==============================] - 1s 722us/step - loss: 0.1710 - accuracy: 0.9334 - val_loss: 0.2062 - val_accuracy: 0.9233\n",
      "Epoch 45/50\n",
      "1578/1578 [==============================] - 1s 769us/step - loss: 0.1697 - accuracy: 0.9339 - val_loss: 0.2057 - val_accuracy: 0.9226\n",
      "Epoch 46/50\n",
      "1578/1578 [==============================] - 1s 720us/step - loss: 0.1694 - accuracy: 0.9344 - val_loss: 0.2064 - val_accuracy: 0.9207\n",
      "Epoch 47/50\n",
      "1578/1578 [==============================] - 1s 735us/step - loss: 0.1672 - accuracy: 0.9351 - val_loss: 0.2071 - val_accuracy: 0.9228\n",
      "Epoch 48/50\n",
      "1578/1578 [==============================] - 1s 725us/step - loss: 0.1672 - accuracy: 0.9346 - val_loss: 0.2066 - val_accuracy: 0.9233\n",
      "Epoch 49/50\n",
      "1578/1578 [==============================] - 1s 723us/step - loss: 0.1650 - accuracy: 0.9352 - val_loss: 0.2070 - val_accuracy: 0.9239\n",
      "Epoch 50/50\n",
      "1578/1578 [==============================] - 1s 723us/step - loss: 0.1637 - accuracy: 0.9362 - val_loss: 0.2070 - val_accuracy: 0.9224\n"
     ]
    }
   ],
   "source": [
    "history = model.fit(X_train2, y_train2 , epochs=50, validation_data=(X_test2, y_test2), shuffle=True)"
   ]
  },
  {
   "cell_type": "markdown",
   "metadata": {},
   "source": [
    "#### Evaluate Results\n",
    "\n",
    "In order to evaluate the results I have plotted the training and testing accuracies using matplotlib. The Accuracies that I was able to achieving using this model seemed to max out at around 93%. \n",
    "\n",
    "I believe that this is an acceptable accuracy given the strategy that I have employed. Is it likely that some of the misclassified articles were actually classified correctly but were incorrectly labeled as conservative or liberal. It is also possible that there are some articles in the dataset that are largely unbiased but were labeled as liberal or conservative, in these instances the accuracy of the classification should in theory be close to 50%. "
   ]
  },
  {
   "cell_type": "code",
   "execution_count": 42,
   "metadata": {},
   "outputs": [
    {
     "name": "stdout",
     "output_type": "stream",
     "text": [
      "176/176 [==============================] - 0s 627us/step - loss: 0.2070 - accuracy: 0.9224\n"
     ]
    },
    {
     "data": {
      "text/plain": [
       "[0.2070254683494568, 0.922446072101593]"
      ]
     },
     "execution_count": 42,
     "metadata": {},
     "output_type": "execute_result"
    }
   ],
   "source": [
    "model.evaluate(X_test2, y_test2)"
   ]
  },
  {
   "cell_type": "code",
   "execution_count": 43,
   "metadata": {
    "scrolled": false
   },
   "outputs": [
    {
     "data": {
      "image/png": "[encoded data removed]",
      "text/plain": [
       "<Figure size 1296x432 with 2 Axes>"
      ]
     },
     "metadata": {
      "needs_background": "light"
     },
     "output_type": "display_data"
    }
   ],
   "source": [
    "import matplotlib.pyplot as plt\n",
    "\n",
    "# Set up two subplots\n",
    "plt.subplots(1, 2, figsize=(18, 6))\n",
    "\n",
    "# Plot accuracies\n",
    "plt.subplot(1, 2, 1)\n",
    "plt.plot(history.history['accuracy'], label='Train', marker='.')\n",
    "plt.plot(history.history['val_accuracy'], label='Validation', marker='.')\n",
    "plt.title('Losses Across Epochs')\n",
    "plt.xlabel('Epoch')\n",
    "plt.ylabel('Loss')\n",
    "plt.legend()\n",
    "\n",
    "\n",
    "# Plot losses\n",
    "plt.subplot(1, 2, 2)\n",
    "plt.plot(history.history['loss'], label='Train', marker='.')\n",
    "plt.plot(history.history['val_loss'], label='Validation', marker='.')\n",
    "plt.title('Losses Across Epochs')\n",
    "plt.xlabel('Epoch')\n",
    "plt.ylabel('Loss')\n",
    "plt.legend()\n",
    "\n",
    "# This ensures the subplots do not overlap\n",
    "plt.tight_layout()\n",
    "\n",
    "# Show the subplots\n",
    "plt.show()"
   ]
  },
  {
   "cell_type": "markdown",
   "metadata": {},
   "source": [
    "The model did not require many epochs to reach its maximum accuracy score even with the measures implemented to reduce overfitting. You can see from the charts above that the model begins to overfit after roughly 20 epochs and the validation accuracy reaches its maximum around 35 epochs.\n",
    "\n",
    "Despite the overfitting the validation accuracy does not significanly drop immediatly as the model overfits. For that reason I have chosen to leave the model fitted on 50 epochs. \n",
    "\n"
   ]
  },
  {
   "cell_type": "markdown",
   "metadata": {},
   "source": [
    "## Conclusion\n",
    "\n",
    "I have successfully developed a neural network that can predict political bias (as I have defined it) in biased news articles. I believe that the level of accuracy of the model is sufficient for application in the next stage of the project which is a google chrome extension that will make use of the fitted model alongside a real time web scraper to make political bias determinations on news webpages."
   ]
  }
 ],
 "metadata": {
  "kernelspec": {
   "display_name": "deeplearning",
   "language": "python",
   "name": "deeplearning"
  },
  "language_info": {
   "codemirror_mode": {
    "name": "ipython",
    "version": 3
   },
   "file_extension": ".py",
   "mimetype": "text/x-python",
   "name": "python",
   "nbconvert_exporter": "python",
   "pygments_lexer": "ipython3",
   "version": "3.8.2"
  }
 },
 "nbformat": 4,
 "nbformat_minor": 4
}
